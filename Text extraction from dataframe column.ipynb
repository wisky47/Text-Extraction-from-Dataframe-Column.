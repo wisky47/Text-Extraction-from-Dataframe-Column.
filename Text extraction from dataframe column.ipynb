{
 "cells": [
  {
   "cell_type": "code",
   "execution_count": 1,
   "metadata": {},
   "outputs": [],
   "source": [
    "# Author: Wish \n",
    "\n",
    "import pandas as pd\n",
    "import numpy as np"
   ]
  },
  {
   "cell_type": "code",
   "execution_count": 2,
   "metadata": {},
   "outputs": [],
   "source": [
    "df = pd.DataFrame([['13 trmiielter hof koln 54296','','Germany'],['13 trmiielter hof trier 54296','','Germany'],['14 hoffen hof hamburg 85472','','Germany'],['23 xena state drive frankfurt 74561','','Germany'],['23 xena state drive darmstadt 74561','','Germany']], columns = ('address','city','country'))"
   ]
  },
  {
   "cell_type": "code",
   "execution_count": 3,
   "metadata": {},
   "outputs": [
    {
     "data": {
      "text/html": [
       "<div>\n",
       "<style scoped>\n",
       "    .dataframe tbody tr th:only-of-type {\n",
       "        vertical-align: middle;\n",
       "    }\n",
       "\n",
       "    .dataframe tbody tr th {\n",
       "        vertical-align: top;\n",
       "    }\n",
       "\n",
       "    .dataframe thead th {\n",
       "        text-align: right;\n",
       "    }\n",
       "</style>\n",
       "<table border=\"1\" class=\"dataframe\">\n",
       "  <thead>\n",
       "    <tr style=\"text-align: right;\">\n",
       "      <th></th>\n",
       "      <th>address</th>\n",
       "      <th>city</th>\n",
       "      <th>country</th>\n",
       "    </tr>\n",
       "  </thead>\n",
       "  <tbody>\n",
       "    <tr>\n",
       "      <th>0</th>\n",
       "      <td>13 trmiielter hof koln 54296</td>\n",
       "      <td></td>\n",
       "      <td>Germany</td>\n",
       "    </tr>\n",
       "    <tr>\n",
       "      <th>1</th>\n",
       "      <td>13 trmiielter hof trier 54296</td>\n",
       "      <td></td>\n",
       "      <td>Germany</td>\n",
       "    </tr>\n",
       "    <tr>\n",
       "      <th>2</th>\n",
       "      <td>14 hoffen hof hamburg 85472</td>\n",
       "      <td></td>\n",
       "      <td>Germany</td>\n",
       "    </tr>\n",
       "    <tr>\n",
       "      <th>3</th>\n",
       "      <td>23 xena state drive frankfurt 74561</td>\n",
       "      <td></td>\n",
       "      <td>Germany</td>\n",
       "    </tr>\n",
       "    <tr>\n",
       "      <th>4</th>\n",
       "      <td>23 xena state drive darmstadt 74561</td>\n",
       "      <td></td>\n",
       "      <td>Germany</td>\n",
       "    </tr>\n",
       "  </tbody>\n",
       "</table>\n",
       "</div>"
      ],
      "text/plain": [
       "                               address city  country\n",
       "0         13 trmiielter hof koln 54296       Germany\n",
       "1        13 trmiielter hof trier 54296       Germany\n",
       "2          14 hoffen hof hamburg 85472       Germany\n",
       "3  23 xena state drive frankfurt 74561       Germany\n",
       "4  23 xena state drive darmstadt 74561       Germany"
      ]
     },
     "execution_count": 3,
     "metadata": {},
     "output_type": "execute_result"
    }
   ],
   "source": [
    "df"
   ]
  },
  {
   "cell_type": "code",
   "execution_count": 4,
   "metadata": {},
   "outputs": [],
   "source": [
    "lst1 = ['dortmund','trier','koln','hamburg','darmstadt','haffen'] # extract and make list of cities that are already there."
   ]
  },
  {
   "cell_type": "code",
   "execution_count": 5,
   "metadata": {},
   "outputs": [
    {
     "data": {
      "text/plain": [
       "['dortmund', 'trier', 'koln', 'hamburg', 'darmstadt', 'haffen']"
      ]
     },
     "execution_count": 5,
     "metadata": {},
     "output_type": "execute_result"
    }
   ],
   "source": [
    "lst1"
   ]
  },
  {
   "cell_type": "code",
   "execution_count": 25,
   "metadata": {},
   "outputs": [],
   "source": [
    "blank = [] # create empty list so that you enter cities found in address to data frame column.\n",
    "count = 0      # simply initialize for comfort. \n",
    "#temp = 0"
   ]
  },
  {
   "cell_type": "code",
   "execution_count": 26,
   "metadata": {},
   "outputs": [
    {
     "data": {
      "text/html": [
       "<div>\n",
       "<style scoped>\n",
       "    .dataframe tbody tr th:only-of-type {\n",
       "        vertical-align: middle;\n",
       "    }\n",
       "\n",
       "    .dataframe tbody tr th {\n",
       "        vertical-align: top;\n",
       "    }\n",
       "\n",
       "    .dataframe thead th {\n",
       "        text-align: right;\n",
       "    }\n",
       "</style>\n",
       "<table border=\"1\" class=\"dataframe\">\n",
       "  <thead>\n",
       "    <tr style=\"text-align: right;\">\n",
       "      <th></th>\n",
       "      <th>address</th>\n",
       "      <th>city</th>\n",
       "      <th>country</th>\n",
       "    </tr>\n",
       "  </thead>\n",
       "  <tbody>\n",
       "    <tr>\n",
       "      <th>0</th>\n",
       "      <td>13 trmiielter hof koln 54296</td>\n",
       "      <td></td>\n",
       "      <td>Germany</td>\n",
       "    </tr>\n",
       "    <tr>\n",
       "      <th>1</th>\n",
       "      <td>13 trmiielter hof trier 54296</td>\n",
       "      <td></td>\n",
       "      <td>Germany</td>\n",
       "    </tr>\n",
       "    <tr>\n",
       "      <th>2</th>\n",
       "      <td>14 hoffen hof hamburg 85472</td>\n",
       "      <td></td>\n",
       "      <td>Germany</td>\n",
       "    </tr>\n",
       "    <tr>\n",
       "      <th>3</th>\n",
       "      <td>23 xena state drive frankfurt 74561</td>\n",
       "      <td></td>\n",
       "      <td>Germany</td>\n",
       "    </tr>\n",
       "    <tr>\n",
       "      <th>4</th>\n",
       "      <td>23 xena state drive darmstadt 74561</td>\n",
       "      <td></td>\n",
       "      <td>Germany</td>\n",
       "    </tr>\n",
       "  </tbody>\n",
       "</table>\n",
       "</div>"
      ],
      "text/plain": [
       "                               address city  country\n",
       "0         13 trmiielter hof koln 54296       Germany\n",
       "1        13 trmiielter hof trier 54296       Germany\n",
       "2          14 hoffen hof hamburg 85472       Germany\n",
       "3  23 xena state drive frankfurt 74561       Germany\n",
       "4  23 xena state drive darmstadt 74561       Germany"
      ]
     },
     "execution_count": 26,
     "metadata": {},
     "output_type": "execute_result"
    }
   ],
   "source": [
    "df"
   ]
  },
  {
   "cell_type": "code",
   "execution_count": 27,
   "metadata": {},
   "outputs": [],
   "source": [
    "for i in df[['address']]:\n",
    "    #for j in lst1:\n",
    "    adr = df[i]  #column name temporary\n",
    "    str1 = adr.values # gets all values of column seprately str1 is just a dummy column created in for loop to iterate the actual address colprint(str1)\n",
    "    for i in range (0, len(str1)):\n",
    "        for j in range (0, len(lst1)):\n",
    "            val = str1[i].find(lst1[j])\n",
    "            if ( val >= 0):\n",
    "                blank.append(lst1[j])\n",
    "            if ( val < 0  ):\n",
    "                pass\n",
    "\n",
    "    "
   ]
  },
  {
   "cell_type": "code",
   "execution_count": 33,
   "metadata": {},
   "outputs": [
    {
     "data": {
      "text/plain": [
       "['dortmund', 'trier', 'koln', 'hamburg', 'darmstadt', 'haffen']"
      ]
     },
     "execution_count": 33,
     "metadata": {},
     "output_type": "execute_result"
    }
   ],
   "source": [
    "lst1 # cities database list"
   ]
  },
  {
   "cell_type": "code",
   "execution_count": 31,
   "metadata": {},
   "outputs": [
    {
     "data": {
      "text/plain": [
       "['koln', 'trier', 'hamburg', 'darmstadt']"
      ]
     },
     "execution_count": 31,
     "metadata": {},
     "output_type": "execute_result"
    }
   ],
   "source": [
    "blank  # extracting cities existing in cities database to data frame address values."
   ]
  },
  {
   "cell_type": "code",
   "execution_count": 32,
   "metadata": {},
   "outputs": [
    {
     "data": {
      "text/html": [
       "<div>\n",
       "<style scoped>\n",
       "    .dataframe tbody tr th:only-of-type {\n",
       "        vertical-align: middle;\n",
       "    }\n",
       "\n",
       "    .dataframe tbody tr th {\n",
       "        vertical-align: top;\n",
       "    }\n",
       "\n",
       "    .dataframe thead th {\n",
       "        text-align: right;\n",
       "    }\n",
       "</style>\n",
       "<table border=\"1\" class=\"dataframe\">\n",
       "  <thead>\n",
       "    <tr style=\"text-align: right;\">\n",
       "      <th></th>\n",
       "      <th>address</th>\n",
       "      <th>city</th>\n",
       "      <th>country</th>\n",
       "    </tr>\n",
       "  </thead>\n",
       "  <tbody>\n",
       "    <tr>\n",
       "      <th>0</th>\n",
       "      <td>13 trmiielter hof koln 54296</td>\n",
       "      <td></td>\n",
       "      <td>Germany</td>\n",
       "    </tr>\n",
       "    <tr>\n",
       "      <th>1</th>\n",
       "      <td>13 trmiielter hof trier 54296</td>\n",
       "      <td></td>\n",
       "      <td>Germany</td>\n",
       "    </tr>\n",
       "    <tr>\n",
       "      <th>2</th>\n",
       "      <td>14 hoffen hof hamburg 85472</td>\n",
       "      <td></td>\n",
       "      <td>Germany</td>\n",
       "    </tr>\n",
       "    <tr>\n",
       "      <th>3</th>\n",
       "      <td>23 xena state drive frankfurt 74561</td>\n",
       "      <td></td>\n",
       "      <td>Germany</td>\n",
       "    </tr>\n",
       "    <tr>\n",
       "      <th>4</th>\n",
       "      <td>23 xena state drive darmstadt 74561</td>\n",
       "      <td></td>\n",
       "      <td>Germany</td>\n",
       "    </tr>\n",
       "  </tbody>\n",
       "</table>\n",
       "</div>"
      ],
      "text/plain": [
       "                               address city  country\n",
       "0         13 trmiielter hof koln 54296       Germany\n",
       "1        13 trmiielter hof trier 54296       Germany\n",
       "2          14 hoffen hof hamburg 85472       Germany\n",
       "3  23 xena state drive frankfurt 74561       Germany\n",
       "4  23 xena state drive darmstadt 74561       Germany"
      ]
     },
     "execution_count": 32,
     "metadata": {},
     "output_type": "execute_result"
    }
   ],
   "source": [
    "df #see your data frame. Note you need a complete list of cities that are in the data frame to actuall match each.\n",
    "# once you have all cities just add the extracted cities list in the existing data frame that has all addresses to get\n",
    "# seprate column as cities that match with each address."
   ]
  }
 ],
 "metadata": {
  "kernelspec": {
   "display_name": "Python 3",
   "language": "python",
   "name": "python3"
  },
  "language_info": {
   "codemirror_mode": {
    "name": "ipython",
    "version": 3
   },
   "file_extension": ".py",
   "mimetype": "text/x-python",
   "name": "python",
   "nbconvert_exporter": "python",
   "pygments_lexer": "ipython3",
   "version": "3.8.3"
  }
 },
 "nbformat": 4,
 "nbformat_minor": 4
}
